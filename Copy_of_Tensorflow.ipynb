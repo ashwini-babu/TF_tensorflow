{
  "nbformat": 4,
  "nbformat_minor": 0,
  "metadata": {
    "colab": {
      "name": "Copy of Tensorflow.ipynb",
      "provenance": [],
      "collapsed_sections": [],
      "authorship_tag": "ABX9TyNzLpLGLiR6uB8HTWzB2iJH",
      "include_colab_link": true
    },
    "kernelspec": {
      "name": "python3",
      "display_name": "Python 3"
    },
    "language_info": {
      "name": "python"
    }
  },
  "cells": [
    {
      "cell_type": "markdown",
      "metadata": {
        "id": "view-in-github",
        "colab_type": "text"
      },
      "source": [
        "<a href=\"https://colab.research.google.com/github/ashwini-babu/TF_tensorflow/blob/main/Copy_of_Tensorflow.ipynb\" target=\"_parent\"><img src=\"https://colab.research.google.com/assets/colab-badge.svg\" alt=\"Open In Colab\"/></a>"
      ]
    },
    {
      "cell_type": "markdown",
      "metadata": {
        "id": "lt5095FQtlfe"
      },
      "source": [
        "**Eager execution**\n",
        "\n",
        "TensorFlow's eager execution is an imperative programming environment that evaluates operations immediately, without building graphs: operations return concrete values instead of constructing a computational graph to run later. This makes it easy to get started with TensorFlow and debug models, and it reduces boilerplate as well"
      ]
    },
    {
      "cell_type": "code",
      "metadata": {
        "colab": {
          "base_uri": "https://localhost:8080/"
        },
        "id": "P-JQ81UmtrkY",
        "outputId": "db499cde-5207-44c8-a654-14a631f0dbac"
      },
      "source": [
        "import tensorflow as tf\n",
        "tf.executing_eagerly\n",
        "x=[[2]]\n",
        "m=tf.matmul(x,x)\n",
        "print(\"hello\",m)"
      ],
      "execution_count": null,
      "outputs": [
        {
          "output_type": "stream",
          "name": "stdout",
          "text": [
            "hello tf.Tensor([[4]], shape=(1, 1), dtype=int32)\n"
          ]
        }
      ]
    },
    {
      "cell_type": "markdown",
      "metadata": {
        "id": "prXoiqHNt0hf"
      },
      "source": [
        "**Constant**\n",
        "\n",
        "Constant is a does not change value, through the code the value is always fixed\n",
        "\n",
        "**Tensorflow vocabulary**:\n",
        "\n",
        "**Shape:**The length (number of elements) of each of the axes of a tensor.\n",
        "\n",
        "**Rank:** Number of tensor axes. A scalar has rank 0, a vector has rank 1, a matrix is rank 2.\n",
        "\n",
        "**Axis or Dimension:** A particular dimension of a tensor.\n",
        "\n",
        "**Size:**The total number of items in the tensor, the product shape vector."
      ]
    },
    {
      "cell_type": "code",
      "metadata": {
        "colab": {
          "base_uri": "https://localhost:8080/"
        },
        "id": "K3KeErkit4hN",
        "outputId": "40ed9348-0956-4cc8-dbc8-0838db496a82"
      },
      "source": [
        "a=tf.constant([[1,2],\n",
        "              [3,4]])\n",
        "print(a)"
      ],
      "execution_count": null,
      "outputs": [
        {
          "output_type": "stream",
          "name": "stdout",
          "text": [
            "tf.Tensor(\n",
            "[[1 2]\n",
            " [3 4]], shape=(2, 2), dtype=int32)\n"
          ]
        }
      ]
    },
    {
      "cell_type": "markdown",
      "metadata": {
        "id": "3f5nnlJeuKnG"
      },
      "source": [
        "**Scalar**\n",
        "\n",
        "It is 0 dimentional tensor\n",
        "\n",
        "It consist of numbers or constant\n",
        "\n",
        "It does not have axis so it is rank_0 tensor"
      ]
    },
    {
      "cell_type": "code",
      "metadata": {
        "id": "0culEpyWuS6a"
      },
      "source": [
        "import tensorflow as tf\n",
        "import numpy as np\n",
        "rank_0_tensor=tf.constant(4)\n",
        "print(rank_0_tensor)"
      ],
      "execution_count": null,
      "outputs": []
    },
    {
      "cell_type": "markdown",
      "metadata": {
        "id": "yXIHLxCNuTxq"
      },
      "source": [
        "**Vector**\n",
        "\n",
        "It is 1 dimentional tensor\n",
        "\n",
        "It consist of list of values\n",
        "\n",
        "The output is present in 1 axis so it is rank_1 tensor\n",
        "\n",
        "\n"
      ]
    },
    {
      "cell_type": "code",
      "metadata": {
        "id": "cb6wC4NHuk83"
      },
      "source": [
        "import tensorflow as tf\n",
        "import numpy as np \n",
        "rank_1_tensor=tf.constant([2.0,3.0,4.0])\n",
        "print(rank_1_tensor)"
      ],
      "execution_count": null,
      "outputs": []
    },
    {
      "cell_type": "markdown",
      "metadata": {
        "id": "ukqRMDDwutm7"
      },
      "source": [
        "**Matrix**\n",
        "\n",
        "It is 2 dimentional tensor\n",
        "\n",
        "It is in the form of matrix\n",
        "\n",
        "The output is present in 2 axis so it is rank_2 tensor"
      ]
    },
    {
      "cell_type": "code",
      "metadata": {
        "id": "YYOL41MRuzw_"
      },
      "source": [
        "import tensorflow as tf\n",
        "import numpy as np\n",
        "rank_2=tf.constant([[1,2],\n",
        "                  [3,4],\n",
        "                   [6,7]])\n",
        "print(rank_2)"
      ],
      "execution_count": null,
      "outputs": []
    },
    {
      "cell_type": "markdown",
      "metadata": {
        "id": "u3FMr9TQwDzL"
      },
      "source": [
        "**rank_3 tensor**"
      ]
    },
    {
      "cell_type": "code",
      "metadata": {
        "id": "DvnDwZ-ywDHV"
      },
      "source": [
        "rank_3_tensor = tf.constant([\n",
        "  [[0, 1, 2, 3, 4],\n",
        "   [5, 6, 7, 8, 9]],\n",
        "  [[10, 11, 12, 13, 14],\n",
        "   [15, 16, 17, 18, 19]],\n",
        "  [[20, 21, 22, 23, 24],\n",
        "   [25, 26, 27, 28, 29]],])\n",
        "\n",
        "print(rank_3_tensor)"
      ],
      "execution_count": null,
      "outputs": []
    },
    {
      "cell_type": "markdown",
      "metadata": {
        "id": "Nz689BYRvA0x"
      },
      "source": [
        "**Variable**\n",
        "\n",
        "A TensorFlow variable is the recommended way to represent shared, persistent state your program manipulates A TensorFlow variable is the recommended way to represent shared, persistent state your program manipulates"
      ]
    },
    {
      "cell_type": "code",
      "metadata": {
        "id": "Z3X-CErRvDXv"
      },
      "source": [
        "import numpy as np\n",
        "import matplotlib.pyplot as plt\n",
        "import tensorflow as tf\n",
        "x=tf.Variable(3.0)\n",
        "with tf.GradientTape() as tape:\n",
        "  y=x**2\n",
        "  dy_dx=tape.gradient(y,x)\n",
        "  dy_dx.numpy()\n",
        "  print(y)"
      ],
      "execution_count": null,
      "outputs": []
    },
    {
      "cell_type": "markdown",
      "metadata": {
        "id": "9-VOvtbKvGiF"
      },
      "source": [
        "**Automatic Differentiation**\n",
        "\n",
        "Automatic differentiation is useful for implementing machine learning algorithms such as backpropagation for training neural networks\n",
        "\n",
        "**Computing gradients**\n",
        "\n",
        "To differentiate automatically, TensorFlow needs to remember what operations happen in what order during the forward pass. Then, during the backward pass, TensorFlow traverses this list of operations in reverse order to compute gradients\n",
        "\n",
        "**Gradient tapes**\n",
        "\n",
        "TensorFlow provides the tf.GradientTape API for automatic differentiation; that is, computing the gradient of a computation with respect to some inputs, usually tf.Variables. TensorFlow \"records\" relevant operations executed inside the context of a tf.GradientTape onto a \"tape\". TensorFlow then uses that tape to compute the gradients of a \"recorded\" computation using reverse mode differentiation."
      ]
    },
    {
      "cell_type": "code",
      "metadata": {
        "id": "05l6CFK2vOv3"
      },
      "source": [
        "import numpy as np\n",
        "import matplotlib.pyplot as plt\n",
        "import tensorflow as tf\n",
        "\n",
        "x = tf.Variable(3.0)\n",
        "\n",
        "with tf.GradientTape() as tape:\n",
        "  y = x**2\n",
        "\n",
        "  dy_dx = tape.gradient(y, x)\n",
        "  dy_dx.numpy()"
      ],
      "execution_count": null,
      "outputs": []
    }
  ]
}